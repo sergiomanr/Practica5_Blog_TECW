{
 "cells": [
  {
   "attachments": {},
   "cell_type": "markdown",
   "metadata": {},
   "source": [
    "Polinomio de Taylor"
   ]
  },
  {
   "cell_type": "code",
   "execution_count": 2,
   "metadata": {
    "tags": []
   },
   "outputs": [
    {
     "ename": "ValueError",
     "evalue": "The same variable should be used in all univariate expressions being plotted.",
     "output_type": "error",
     "traceback": [
      "\u001b[1;31m---------------------------------------------------------------------------\u001b[0m",
      "\u001b[1;31mValueError\u001b[0m                                Traceback (most recent call last)",
      "\u001b[1;32m~\\AppData\\Local\\Temp\\ipykernel_15164\\462334745.py\u001b[0m in \u001b[0;36m<module>\u001b[1;34m\u001b[0m\n\u001b[0;32m     45\u001b[0m \u001b[1;31m# b = float(input('Polinomio centrado en(b): '))\u001b[0m\u001b[1;33m\u001b[0m\u001b[1;33m\u001b[0m\u001b[0m\n\u001b[0;32m     46\u001b[0m \u001b[0mn\u001b[0m \u001b[1;33m=\u001b[0m \u001b[0mint\u001b[0m\u001b[1;33m(\u001b[0m\u001b[0minput\u001b[0m\u001b[1;33m(\u001b[0m\u001b[1;34m'Orden del polinomio'\u001b[0m\u001b[1;33m)\u001b[0m\u001b[1;33m)\u001b[0m\u001b[1;33m\u001b[0m\u001b[1;33m\u001b[0m\u001b[0m\n\u001b[1;32m---> 47\u001b[1;33m \u001b[0mPolTaylor\u001b[0m\u001b[1;33m(\u001b[0m\u001b[0ma\u001b[0m\u001b[1;33m,\u001b[0m\u001b[0mn\u001b[0m\u001b[1;33m)\u001b[0m\u001b[1;33m\u001b[0m\u001b[1;33m\u001b[0m\u001b[0m\n\u001b[0m",
      "\u001b[1;32m~\\AppData\\Local\\Temp\\ipykernel_15164\\462334745.py\u001b[0m in \u001b[0;36mPolTaylor\u001b[1;34m(a, n)\u001b[0m\n\u001b[0;32m     38\u001b[0m     \u001b[1;31m# plt.plot(x,e, 'r')\u001b[0m\u001b[1;33m\u001b[0m\u001b[1;33m\u001b[0m\u001b[0m\n\u001b[0;32m     39\u001b[0m     \u001b[1;31m# plt.show()\u001b[0m\u001b[1;33m\u001b[0m\u001b[1;33m\u001b[0m\u001b[0m\n\u001b[1;32m---> 40\u001b[1;33m     \u001b[0mg\u001b[0m \u001b[1;33m=\u001b[0m \u001b[0mplot\u001b[0m\u001b[1;33m(\u001b[0m\u001b[0mF\u001b[0m\u001b[1;33m,\u001b[0m\u001b[0mT\u001b[0m\u001b[1;33m,\u001b[0m\u001b[1;33m(\u001b[0m\u001b[0mx\u001b[0m\u001b[1;33m,\u001b[0m\u001b[0ma\u001b[0m\u001b[1;33m-\u001b[0m\u001b[1;36m4\u001b[0m\u001b[1;33m,\u001b[0m\u001b[0ma\u001b[0m\u001b[1;33m+\u001b[0m\u001b[1;36m4\u001b[0m\u001b[1;33m)\u001b[0m\u001b[1;33m,\u001b[0m\u001b[0mtitle\u001b[0m\u001b[1;33m=\u001b[0m\u001b[1;34m'Polynomio'\u001b[0m\u001b[1;33m,\u001b[0m\u001b[0mshow\u001b[0m \u001b[1;33m=\u001b[0m \u001b[1;32mFalse\u001b[0m\u001b[1;33m)\u001b[0m\u001b[1;33m\u001b[0m\u001b[1;33m\u001b[0m\u001b[0m\n\u001b[0m\u001b[0;32m     41\u001b[0m     \u001b[0mg\u001b[0m\u001b[1;33m[\u001b[0m\u001b[1;36m0\u001b[0m\u001b[1;33m]\u001b[0m\u001b[1;33m.\u001b[0m\u001b[0mline_color\u001b[0m \u001b[1;33m=\u001b[0m \u001b[1;34m'k'\u001b[0m \u001b[1;31m#Color de la función real\u001b[0m\u001b[1;33m\u001b[0m\u001b[1;33m\u001b[0m\u001b[0m\n\u001b[0;32m     42\u001b[0m     \u001b[0mg\u001b[0m\u001b[1;33m[\u001b[0m\u001b[1;36m1\u001b[0m\u001b[1;33m]\u001b[0m\u001b[1;33m.\u001b[0m\u001b[0mline_color\u001b[0m \u001b[1;33m=\u001b[0m \u001b[1;34m'deeppink'\u001b[0m\u001b[1;33m\u001b[0m\u001b[1;33m\u001b[0m\u001b[0m\n",
      "\u001b[1;32mc:\\Users\\sergi\\anaconda3\\lib\\site-packages\\sympy\\plotting\\plot.py\u001b[0m in \u001b[0;36mplot\u001b[1;34m(show, *args, **kwargs)\u001b[0m\n\u001b[0;32m   1840\u001b[0m             \u001b[0mfree\u001b[0m \u001b[1;33m|=\u001b[0m \u001b[0ma\u001b[0m\u001b[1;33m.\u001b[0m\u001b[0mfree_symbols\u001b[0m\u001b[1;33m\u001b[0m\u001b[1;33m\u001b[0m\u001b[0m\n\u001b[0;32m   1841\u001b[0m             \u001b[1;32mif\u001b[0m \u001b[0mlen\u001b[0m\u001b[1;33m(\u001b[0m\u001b[0mfree\u001b[0m\u001b[1;33m)\u001b[0m \u001b[1;33m>\u001b[0m \u001b[1;36m1\u001b[0m\u001b[1;33m:\u001b[0m\u001b[1;33m\u001b[0m\u001b[1;33m\u001b[0m\u001b[0m\n\u001b[1;32m-> 1842\u001b[1;33m                 raise ValueError(\n\u001b[0m\u001b[0;32m   1843\u001b[0m                     \u001b[1;34m'The same variable should be used in all '\u001b[0m\u001b[1;33m\u001b[0m\u001b[1;33m\u001b[0m\u001b[0m\n\u001b[0;32m   1844\u001b[0m                     'univariate expressions being plotted.')\n",
      "\u001b[1;31mValueError\u001b[0m: The same variable should be used in all univariate expressions being plotted."
     ]
    }
   ],
   "source": [
    "from math import *\n",
    "import sympy as sp\n",
    "from sympy.plotting import plot\n",
    "import numpy as np\n",
    "import matplotlib.pyplot as plt\n",
    "\n",
    "def PolTaylor(a,n):\n",
    "    x = sp.symbols('x')\n",
    "    y = sp.symbols('y')\n",
    "    f = sp.exp(x) #Poner que expresion mostrar\n",
    "    f = x**2+y**2\n",
    "    \n",
    "    j = sp.exp(x)\n",
    "    J = j\n",
    "    F = f \n",
    "    T = f.subs(x,a)\n",
    "    # A = j.subs(x,b)\n",
    "\n",
    "    for k in range(1,n+1):\n",
    "        dfk = sp.diff(f,x)\n",
    "        # dkf = sp.diff(j,x)\n",
    "        # A += dkf.subs(x,b)*((x-b)**k)/factorial(k)\n",
    "        T += dfk.subs(x,a)*((x-a)**k)/factorial(k)\n",
    "        f = dfk\n",
    "        # j = dkf\n",
    "    # print(sp.expand(T))\n",
    "    # x = np.linspace(-50,50,100)\n",
    "    # y = x**2\n",
    "    # fig = plt.figure()\n",
    "    # ax = fig.add_subplot(1, 1, 1)\n",
    "    # ax.spines['left'].set_position('center')\n",
    "    # ax.spines['bottom'].set_position('zero')\n",
    "    # ax.spines['right'].set_color('none')\n",
    "    # ax.spines['top'].set_color('none')\n",
    "    # ax.xaxis.set_ticks_position('bottom')\n",
    "    # ax.yaxis.set_ticks_position('left')\n",
    "    # e = (x**4/24 - x**2/2 + 1)*(x**5/120 + x**4/24 + x**3/6 + x**2/2 + x + 1)\n",
    "    # plt.plot(x,e, 'r')\n",
    "    # plt.show()\n",
    "    g = plot(F,T,(x,a-4,a+4),title='Polynomio',show = False)\n",
    "    g[0].line_color = 'k' #Color de la función real\n",
    "    g[1].line_color = 'deeppink'\n",
    "    g.show()\n",
    "a = float(input('Polinomio centrado en(a): '))\n",
    "# b = float(input('Polinomio centrado en(b): '))\n",
    "n = int(input('Orden del polinomio'))\n",
    "PolTaylor(a,n)"
   ]
  }
 ],
 "metadata": {
  "kernelspec": {
   "display_name": "base",
   "language": "python",
   "name": "python3"
  },
  "language_info": {
   "codemirror_mode": {
    "name": "ipython",
    "version": 3
   },
   "file_extension": ".py",
   "mimetype": "text/x-python",
   "name": "python",
   "nbconvert_exporter": "python",
   "pygments_lexer": "ipython3",
   "version": "3.9.13"
  },
  "orig_nbformat": 4,
  "vscode": {
   "interpreter": {
    "hash": "e5898a40ac1bc55161c2b54e62bd79c8b1a24ee26972e08bccb36328cd6b373a"
   }
  }
 },
 "nbformat": 4,
 "nbformat_minor": 2
}
