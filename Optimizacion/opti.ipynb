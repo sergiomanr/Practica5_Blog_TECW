{
 "cells": [
  {
   "attachments": {},
   "cell_type": "markdown",
   "metadata": {},
   "source": [
    "Empezamos con una matriz"
   ]
  },
  {
   "cell_type": "code",
   "execution_count": 1,
   "metadata": {
    "tags": []
   },
   "outputs": [
    {
     "data": {
      "text/latex": [
       "$\\displaystyle - l^{3} + 8 l^{2} - 8 l$"
      ],
      "text/plain": [
       "-l**3 + 8*l**2 - 8*l"
      ]
     },
     "execution_count": 1,
     "metadata": {},
     "output_type": "execute_result"
    }
   ],
   "source": [
    "from sympy import *\n",
    "x,y= -4/3,-8/3\n",
    "A = Matrix([[2,2,0],\n",
    "            [2,6,0],\n",
    "            [0,0,0]])\n",
    "\n",
    "B = Matrix([[2,6],\n",
    "            [6,-14]])\n",
    "l = symbols('l')\n",
    "poly = det(A-l*eye(3))\n",
    "poly\n",
    "\n"
   ]
  },
  {
   "cell_type": "code",
   "execution_count": 2,
   "metadata": {},
   "outputs": [
    {
     "name": "stdout",
     "output_type": "stream",
     "text": [
      "[0, 4 - 2*sqrt(2), 2*sqrt(2) + 4]\n",
      "Menor\n",
      "Mayor\n",
      "Mayor\n"
     ]
    }
   ],
   "source": [
    "sol = solve(poly,l)\n",
    "print(sol)\n",
    "for i in sol:\n",
    "    if i>0:\n",
    "        print('Mayor')\n",
    "    elif i == 0:\n",
    "        print('Cero')\n",
    "    else:\n",
    "        print('Menor')\n"
   ]
  }
 ],
 "metadata": {
  "kernelspec": {
   "display_name": "base",
   "language": "python",
   "name": "python3"
  },
  "language_info": {
   "codemirror_mode": {
    "name": "ipython",
    "version": 3
   },
   "file_extension": ".py",
   "mimetype": "text/x-python",
   "name": "python",
   "nbconvert_exporter": "python",
   "pygments_lexer": "ipython3",
   "version": "3.9.13"
  },
  "orig_nbformat": 4,
  "vscode": {
   "interpreter": {
    "hash": "e5898a40ac1bc55161c2b54e62bd79c8b1a24ee26972e08bccb36328cd6b373a"
   }
  }
 },
 "nbformat": 4,
 "nbformat_minor": 2
}
