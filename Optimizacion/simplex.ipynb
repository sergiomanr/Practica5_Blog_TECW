{
 "cells": [
  {
   "cell_type": "code",
   "execution_count": 3,
   "metadata": {},
   "outputs": [
    {
     "name": "stdout",
     "output_type": "stream",
     "text": [
      "\n",
      "\n",
      "Resolución a partir del problema expresado en forma estándar\n"
     ]
    },
    {
     "name": "stderr",
     "output_type": "stream",
     "text": [
      "C:\\Users\\sergi\\AppData\\Local\\Temp\\ipykernel_14668\\15651578.py:18: DeprecationWarning: `method='simplex'` is deprecated and will be removed in SciPy 1.11.0. Please use one of the HiGHS solvers (e.g. `method='highs'`) in new code.\n",
      "  res=scipy.optimize.linprog(c,A_eq=A,b_eq=b,method='simplex')\n"
     ]
    },
    {
     "data": {
      "text/plain": [
       "     con: array([-1.77635684e-15,  7.10542736e-15,  3.55271368e-15])\n",
       "     fun: -120.99999999999999\n",
       " message: 'Optimization terminated successfully.'\n",
       "     nit: 4\n",
       "   slack: array([], dtype=float64)\n",
       "  status: 0\n",
       " success: True\n",
       "       x: array([ 0.,  3., 14.,  0.,  3.,  0.])"
      ]
     },
     "execution_count": 3,
     "metadata": {},
     "output_type": "execute_result"
    }
   ],
   "source": [
    "import scipy.optimize\n",
    "# from showsol import ShowSol\n",
    "\n",
    "# c=[5,-3,-8]\n",
    "# A1u=[[2,5,-1]]\n",
    "# b1u=[1]\n",
    "# limits=[(-5,3),(None,5)]\n",
    "# res=scipy.optimize.linprog(c,A_ub=A1u,b_ub=b1u,bounds=limits ,method='simplex')\n",
    "# # ShowSol(res)\n",
    "print('\\n\\nResolución a partir del problema expresado en forma estándar')\n",
    "c=[5,-3,-8,0,0,0]\n",
    "A=[\n",
    "[2,5,-1, 1, 0, 0],\n",
    "[-2,-12,3,0,1,0],\n",
    "[ -3,-8,2,0, 0, 1],\n",
    "]\n",
    "b=[1,9,4]\n",
    "res=scipy.optimize.linprog(c,A_eq=A,b_eq=b,method='simplex')\n",
    "# ShowSol(res)\n",
    "res"
   ]
  }
 ],
 "metadata": {
  "kernelspec": {
   "display_name": "base",
   "language": "python",
   "name": "python3"
  },
  "language_info": {
   "codemirror_mode": {
    "name": "ipython",
    "version": 3
   },
   "file_extension": ".py",
   "mimetype": "text/x-python",
   "name": "python",
   "nbconvert_exporter": "python",
   "pygments_lexer": "ipython3",
   "version": "3.9.13"
  },
  "orig_nbformat": 4
 },
 "nbformat": 4,
 "nbformat_minor": 2
}
