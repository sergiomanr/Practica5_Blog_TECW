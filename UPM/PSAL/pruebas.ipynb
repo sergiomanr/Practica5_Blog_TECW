{
 "cells": [
  {
   "cell_type": "code",
   "execution_count": 1,
   "metadata": {},
   "outputs": [],
   "source": [
    "from scipy import stats\n",
    "import numpy as np\n",
    "import matplotlib.pyplot as plt\n",
    "\n",
    "\n",
    "class distribucion_pregunta_examen(stats.rv_continuous):\n",
    "    def _pdf(self, x, **kwargs):\n",
    "        return 1/(1/(m+1)-1/(m+2))*(x**m)*(1-x)\n",
    "    \n",
    "np.random.seed(2023)\n",
    "experimentos = 10000\n",
    "m_list = [1, 2, 3]\n",
    "muestras_X_por_m = []\n",
    "Bs = []\n",
    "for i in m_list:\n",
    "    Bs.append(round(1/(1/(i+1)-1/(i+2))))\n",
    "\n",
    "for m, B in zip(m_list, Bs):\n",
    "    distribucion_X = distribucion_pregunta_examen(a=0, b=1)\n",
    "    muestras_X_por_m.append(distribucion_X.rvs(size=experimentos))"
   ]
  },
  {
   "cell_type": "code",
   "execution_count": 7,
   "metadata": {},
   "outputs": [
    {
     "name": "stdout",
     "output_type": "stream",
     "text": [
      "6.44 s ± 17.2 ms per loop (mean ± std. dev. of 7 runs, 1 loop each)\n"
     ]
    }
   ],
   "source": [
    "%%timeit\n",
    "k = 5\n",
    "import time \n",
    "start = time.time()\n",
    "for muestra_de_m,m_selec in zip(muestras_X_por_m,m_list):\n",
    "    b = 0.99\n",
    "    frecuencia = 0\n",
    "    while True:\n",
    "        listas_notas = []\n",
    "        for examenes in np.array_split(muestra_de_m, len(muestra_de_m)/10):\n",
    "            listas_notas.append(sum(examenes >= b))\n",
    "        # listaz_notas = [sum(examenes>= b) for examenes in np.array_split(muestra_de_m, len(muestra_de_m)/10) ]\n",
    "        # contador = 0\n",
    "        # for nota in listas_notas:\n",
    "        #     if nota >= k:\n",
    "        #         contador += 1\n",
    "\n",
    "        contador = np.sum(np.asarray(listas_notas)>=k)\n",
    "        frecuencia = contador/(len(muestra_de_m)/10)\n",
    "        \n",
    "        if frecuencia >= 0.9:\n",
    "                # print(f'La b para que la Fr de {m_selec} sea {frecuencia} ~ 0.9 es: ',b)\n",
    "                break\n",
    "        else:\n",
    "            b -= 0.005\n",
    "            continue\n",
    "# print('Tiempo', time.time()-start)"
   ]
  }
 ],
 "metadata": {
  "kernelspec": {
   "display_name": "base",
   "language": "python",
   "name": "python3"
  },
  "language_info": {
   "codemirror_mode": {
    "name": "ipython",
    "version": 3
   },
   "file_extension": ".py",
   "mimetype": "text/x-python",
   "name": "python",
   "nbconvert_exporter": "python",
   "pygments_lexer": "ipython3",
   "version": "3.9.13"
  }
 },
 "nbformat": 4,
 "nbformat_minor": 2
}
